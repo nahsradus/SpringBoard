{
 "cells": [
  {
   "cell_type": "markdown",
   "id": "32e3647c",
   "metadata": {},
   "source": [
    " ## Modeling Fraud Detection"
   ]
  },
  {
   "cell_type": "code",
   "execution_count": 102,
   "id": "7ce19faf",
   "metadata": {},
   "outputs": [],
   "source": [
    "import pandas as pd\n",
    "import numpy as np\n",
    "import matplotlib.pyplot as plt\n",
    "import seaborn as sns\n",
    "import shap\n",
    "\n",
    "from sklearn.pipeline import make_pipeline\n",
    "\n",
    "sns.set()"
   ]
  },
  {
   "cell_type": "markdown",
   "id": "1ca4104d",
   "metadata": {},
   "source": [
    "### Relevant Functions"
   ]
  },
  {
   "cell_type": "code",
   "execution_count": 2,
   "id": "b670be84",
   "metadata": {},
   "outputs": [],
   "source": [
    "def plot_confusion_matrix(y_test, y_pred):\n",
    "    cm = metrics.confusion_matrix(y_test, y_pred)\n",
    "    plt.figure(figsize=(9,9))\n",
    "    sns.heatmap(cm, annot=True, fmt=\".3f\", linewidths=.5, square = True, cmap = 'Blues_r');\n",
    "    plt.ylabel('Actual label');\n",
    "    plt.xlabel('Predicted label');\n",
    "    all_sample_title = 'Accuracy Score: {0}'.format(score)\n",
    "    plt.title(all_sample_title, size = 15);"
   ]
  },
  {
   "cell_type": "code",
   "execution_count": 3,
   "id": "2323fc42",
   "metadata": {},
   "outputs": [],
   "source": [
    "def plot_auc_curve(fpr, tpr):\n",
    "    roc_auc = metrics.auc(fpr, tpr)\n",
    "    plt.title('Receiver Operating Characteristic')\n",
    "    plt.plot(fpr, tpr, 'b', label = 'AUC = %0.2f' % roc_auc)\n",
    "    plt.legend(loc = 'lower right')\n",
    "    plt.plot([0, 1], [0, 1],'r--')\n",
    "    plt.xlim([0, 1])\n",
    "    plt.ylim([0, 1])\n",
    "    plt.ylabel('True Positive Rate')\n",
    "    plt.xlabel('False Positive Rate')\n",
    "    plt.show()"
   ]
  },
  {
   "cell_type": "code",
   "execution_count": 4,
   "id": "9a536007",
   "metadata": {},
   "outputs": [],
   "source": [
    "def feature_importance(model):\n",
    "    importances = model.feature_importances_\n",
    "    indices = np.argsort(importances)\n",
    "    features = X_train.columns\n",
    "    plt.figure(figsize = (8,6))\n",
    "    plt.title('Feature Importances')\n",
    "    plt.barh(range(len(indices)), importances[indices], color='b', align='center')\n",
    "    plt.yticks(range(len(indices)), [features[i] for i in indices])\n",
    "    plt.xlabel('Relative Importance')\n",
    "    plt.show()"
   ]
  },
  {
   "cell_type": "code",
   "execution_count": 5,
   "id": "ceced3ff",
   "metadata": {},
   "outputs": [],
   "source": [
    "def model_coeff(model, X):\n",
    "    print(\"Model coefficients:\\n\")\n",
    "    for i in range(X.shape[1]):\n",
    "        print(X.columns[i], \"=\", model.coef_[0,i].round(4))"
   ]
  },
  {
   "cell_type": "code",
   "execution_count": 6,
   "id": "5b202a7e",
   "metadata": {},
   "outputs": [],
   "source": [
    "def plot_impfeatures(models, model_label, ncol=None):\n",
    "    if ncol is None:\n",
    "        ncol = 2\n",
    "    nrow = int(np.ceil(len(models) / ncol))\n",
    "    fig, axes = plt.subplots(nrow, ncol, figsize=(15, 8*nrow), squeeze=False)\n",
    "    fig.subplots_adjust(wspace=0.5, hspace=0.6)\n",
    "    for i, model in enumerate(models):\n",
    "        ax = axes.flatten()[i]\n",
    "        print(model)\n",
    "        importances = model.feature_importances_\n",
    "        indices = np.argsort(importances)\n",
    "        features = X_train.columns\n",
    "        \n",
    "        ax.barh(range(len(indices)), importances[indices], color='b', align='center')\n",
    "        ax.set(title=model_label[i])\n",
    "        ax.set(xlabel='Relative Importance')\n",
    "        ax.set_yticks(range(len(indices)), [features[i] for i in indices])\n",
    "    nsubplots = nrow * ncol    \n",
    "    for empty in range(i+1, nsubplots):\n",
    "        axes.flatten()[empty].set_visible(False)"
   ]
  },
  {
   "cell_type": "code",
   "execution_count": 7,
   "id": "147627c0",
   "metadata": {},
   "outputs": [],
   "source": [
    "def plot_shap_summary(models, model_label, ncol=None):\n",
    "    if ncol is None:\n",
    "        ncol = 2\n",
    "    nrow = int(np.ceil(len(models) / ncol))\n",
    "    fig, axes = plt.subplots(nrow, ncol, figsize=(15, 8*nrow), squeeze=False)\n",
    "    fig.subplots_adjust(wspace=0.5, hspace=0.6)\n",
    "    for i, model in enumerate(models):\n",
    "        ax = axes.flatten()[i]\n",
    "        explainer = shap.Explainer(model.predict,X_test)\n",
    "        lr_shap_values = explainer(X_test)\n",
    "        #summary_plot\n",
    "        shap.plots.beeswarm(lr_shap_values)\n",
    "        plt.title(model_label[i])\n",
    "        #ax.set(title=model_label[i])\n",
    "    nsubplots = nrow * ncol    \n",
    "    for empty in range(i+1, nsubplots):\n",
    "        axes.flatten()[empty].set_visible(False)"
   ]
  },
  {
   "cell_type": "code",
   "execution_count": 8,
   "id": "508610de",
   "metadata": {},
   "outputs": [],
   "source": [
    "def auc_score(model, y_test, X_test):\n",
    "    y_pred = model.predict(X_test)\n",
    "    fpr, tpr, thresholds = metrics.roc_curve(y_test, y_pred)\n",
    "    auc_score = metrics.auc(fpr, tpr)\n",
    "    return auc_score"
   ]
  },
  {
   "cell_type": "code",
   "execution_count": null,
   "id": "427d897b",
   "metadata": {},
   "outputs": [],
   "source": [
    "def shap_values(model):\n",
    "    explainer = shap.Explainer(model.predict,X_train[0:100])\n",
    "    shap_values = explainer(X_test)\n",
    "    return shap_values"
   ]
  },
  {
   "cell_type": "code",
   "execution_count": 9,
   "id": "2142d385",
   "metadata": {},
   "outputs": [],
   "source": [
    "from sklearn.model_selection import train_test_split, cross_validate, GridSearchCV, learning_curve\n",
    "from sklearn import metrics"
   ]
  },
  {
   "cell_type": "code",
   "execution_count": 10,
   "id": "000ed042",
   "metadata": {},
   "outputs": [
    {
     "data": {
      "text/html": [
       "<div>\n",
       "<style scoped>\n",
       "    .dataframe tbody tr th:only-of-type {\n",
       "        vertical-align: middle;\n",
       "    }\n",
       "\n",
       "    .dataframe tbody tr th {\n",
       "        vertical-align: top;\n",
       "    }\n",
       "\n",
       "    .dataframe thead th {\n",
       "        text-align: right;\n",
       "    }\n",
       "</style>\n",
       "<table border=\"1\" class=\"dataframe\">\n",
       "  <thead>\n",
       "    <tr style=\"text-align: right;\">\n",
       "      <th></th>\n",
       "      <th>step</th>\n",
       "      <th>amount</th>\n",
       "      <th>isFraud</th>\n",
       "      <th>CASH_IN</th>\n",
       "      <th>CASH_OUT</th>\n",
       "      <th>DEBIT</th>\n",
       "      <th>PAYMENT</th>\n",
       "      <th>TRANSFER</th>\n",
       "    </tr>\n",
       "  </thead>\n",
       "  <tbody>\n",
       "    <tr>\n",
       "      <th>0</th>\n",
       "      <td>281</td>\n",
       "      <td>109339.40</td>\n",
       "      <td>0</td>\n",
       "      <td>0</td>\n",
       "      <td>1</td>\n",
       "      <td>0</td>\n",
       "      <td>0</td>\n",
       "      <td>0</td>\n",
       "    </tr>\n",
       "    <tr>\n",
       "      <th>1</th>\n",
       "      <td>381</td>\n",
       "      <td>32426.51</td>\n",
       "      <td>0</td>\n",
       "      <td>1</td>\n",
       "      <td>0</td>\n",
       "      <td>0</td>\n",
       "      <td>0</td>\n",
       "      <td>0</td>\n",
       "    </tr>\n",
       "    <tr>\n",
       "      <th>2</th>\n",
       "      <td>20</td>\n",
       "      <td>55810.86</td>\n",
       "      <td>0</td>\n",
       "      <td>1</td>\n",
       "      <td>0</td>\n",
       "      <td>0</td>\n",
       "      <td>0</td>\n",
       "      <td>0</td>\n",
       "    </tr>\n",
       "    <tr>\n",
       "      <th>3</th>\n",
       "      <td>331</td>\n",
       "      <td>50514.72</td>\n",
       "      <td>0</td>\n",
       "      <td>0</td>\n",
       "      <td>1</td>\n",
       "      <td>0</td>\n",
       "      <td>0</td>\n",
       "      <td>0</td>\n",
       "    </tr>\n",
       "    <tr>\n",
       "      <th>4</th>\n",
       "      <td>182</td>\n",
       "      <td>16539.44</td>\n",
       "      <td>0</td>\n",
       "      <td>0</td>\n",
       "      <td>0</td>\n",
       "      <td>0</td>\n",
       "      <td>1</td>\n",
       "      <td>0</td>\n",
       "    </tr>\n",
       "  </tbody>\n",
       "</table>\n",
       "</div>"
      ],
      "text/plain": [
       "   step     amount  isFraud  CASH_IN  CASH_OUT  DEBIT  PAYMENT  TRANSFER\n",
       "0   281  109339.40        0        0         1      0        0         0\n",
       "1   381   32426.51        0        1         0      0        0         0\n",
       "2    20   55810.86        0        1         0      0        0         0\n",
       "3   331   50514.72        0        0         1      0        0         0\n",
       "4   182   16539.44        0        0         0      0        1         0"
      ]
     },
     "execution_count": 10,
     "metadata": {},
     "output_type": "execute_result"
    }
   ],
   "source": [
    "final_df = pd.read_csv('../clean_data/final_df.csv')\n",
    "final_df.head()"
   ]
  },
  {
   "cell_type": "code",
   "execution_count": 11,
   "id": "a36a252e",
   "metadata": {},
   "outputs": [],
   "source": [
    "y = final_df['isFraud']\n",
    "X = final_df.drop(columns = 'isFraud')"
   ]
  },
  {
   "cell_type": "code",
   "execution_count": 12,
   "id": "93265fa9",
   "metadata": {},
   "outputs": [],
   "source": [
    "X_train, X_test, y_train, y_test = train_test_split(\n",
    "    X, y, test_size=0.33, random_state=42)"
   ]
  },
  {
   "cell_type": "markdown",
   "id": "ba94c252",
   "metadata": {},
   "source": [
    "## Model 1: Logistic Regression"
   ]
  },
  {
   "cell_type": "markdown",
   "id": "c0b65777",
   "metadata": {},
   "source": [
    "### 1.1 Make Pipeline and fit"
   ]
  },
  {
   "cell_type": "code",
   "execution_count": 126,
   "id": "2f05aadc",
   "metadata": {},
   "outputs": [],
   "source": [
    "from sklearn.linear_model import LogisticRegression\n",
    "\n",
    "LR_pipe = LogisticRegression()"
   ]
  },
  {
   "cell_type": "code",
   "execution_count": 127,
   "id": "15f9925f",
   "metadata": {},
   "outputs": [
    {
     "data": {
      "text/plain": [
       "LogisticRegression()"
      ]
     },
     "execution_count": 127,
     "metadata": {},
     "output_type": "execute_result"
    }
   ],
   "source": [
    "LR_pipe.fit(X_train, y_train)"
   ]
  },
  {
   "cell_type": "code",
   "execution_count": 128,
   "id": "8cdb8a51",
   "metadata": {},
   "outputs": [],
   "source": [
    "model_name = LR_pipe"
   ]
  },
  {
   "cell_type": "markdown",
   "id": "9665e3e1",
   "metadata": {},
   "source": [
    "### 1.2 Hyperparameter search using GridSearchCV"
   ]
  },
  {
   "cell_type": "code",
   "execution_count": 133,
   "id": "b79c0aef",
   "metadata": {},
   "outputs": [
    {
     "data": {
      "text/plain": [
       "dict_keys(['C', 'class_weight', 'dual', 'fit_intercept', 'intercept_scaling', 'l1_ratio', 'max_iter', 'multi_class', 'n_jobs', 'penalty', 'random_state', 'solver', 'tol', 'verbose', 'warm_start'])"
      ]
     },
     "execution_count": 133,
     "metadata": {},
     "output_type": "execute_result"
    }
   ],
   "source": [
    "model_name.get_params().keys()"
   ]
  },
  {
   "cell_type": "code",
   "execution_count": 134,
   "id": "ba5ace55",
   "metadata": {},
   "outputs": [],
   "source": [
    "grid_params = {\"C\":np.logspace(-3,3,7), \"penalty\":[\"l1\",\"l2\"]}"
   ]
  },
  {
   "cell_type": "code",
   "execution_count": 135,
   "id": "3fed173a",
   "metadata": {},
   "outputs": [],
   "source": [
    "lr_grid_cv = GridSearchCV(model_name, param_grid=grid_params, cv=5, n_jobs=-1)"
   ]
  },
  {
   "cell_type": "code",
   "execution_count": 136,
   "id": "a89bf906",
   "metadata": {},
   "outputs": [
    {
     "name": "stderr",
     "output_type": "stream",
     "text": [
      "\n",
      "35 fits failed out of a total of 70.\n",
      "The score on these train-test partitions for these parameters will be set to nan.\n",
      "If these failures are not expected, you can try to debug them by setting error_score='raise'.\n",
      "\n",
      "Below are more details about the failures:\n",
      "--------------------------------------------------------------------------------\n",
      "35 fits failed with the following error:\n",
      "Traceback (most recent call last):\n",
      "  File \"/Users/skarki/opt/anaconda3/lib/python3.9/site-packages/sklearn/model_selection/_validation.py\", line 680, in _fit_and_score\n",
      "    estimator.fit(X_train, y_train, **fit_params)\n",
      "  File \"/Users/skarki/opt/anaconda3/lib/python3.9/site-packages/sklearn/linear_model/_logistic.py\", line 1461, in fit\n",
      "    solver = _check_solver(self.solver, self.penalty, self.dual)\n",
      "  File \"/Users/skarki/opt/anaconda3/lib/python3.9/site-packages/sklearn/linear_model/_logistic.py\", line 447, in _check_solver\n",
      "    raise ValueError(\n",
      "ValueError: Solver lbfgs supports only 'l2' or 'none' penalties, got l1 penalty.\n",
      "\n",
      "One or more of the test scores are non-finite: [       nan 0.55438437        nan 0.55438437        nan 0.55438437\n",
      "        nan 0.55438437        nan 0.55438437        nan 0.55438437\n",
      "        nan 0.55438437]\n"
     ]
    },
    {
     "data": {
      "text/plain": [
       "GridSearchCV(cv=5, estimator=LogisticRegression(), n_jobs=-1,\n",
       "             param_grid={'C': array([1.e-03, 1.e-02, 1.e-01, 1.e+00, 1.e+01, 1.e+02, 1.e+03]),\n",
       "                         'penalty': ['l1', 'l2']})"
      ]
     },
     "execution_count": 136,
     "metadata": {},
     "output_type": "execute_result"
    }
   ],
   "source": [
    "lr_grid_cv.fit(X_train, y_train)"
   ]
  },
  {
   "cell_type": "code",
   "execution_count": 137,
   "id": "6cb6e147",
   "metadata": {},
   "outputs": [
    {
     "data": {
      "text/plain": [
       "{'C': 0.001, 'penalty': 'l2'}"
      ]
     },
     "execution_count": 137,
     "metadata": {},
     "output_type": "execute_result"
    }
   ],
   "source": [
    "lr_grid_cv.best_params_"
   ]
  },
  {
   "cell_type": "code",
   "execution_count": 141,
   "id": "3eae6221",
   "metadata": {},
   "outputs": [
    {
     "name": "stdout",
     "output_type": "stream",
     "text": [
      "score 0.6148312119535141\n"
     ]
    }
   ],
   "source": [
    "lr2=LogisticRegression(C=0.001,penalty=\"l2\")\n",
    "lr2.fit(X_train,y_train)\n",
    "print(\"score\",lr2.score(X_test,y_test))"
   ]
  },
  {
   "cell_type": "code",
   "execution_count": 144,
   "id": "a60f2f18",
   "metadata": {},
   "outputs": [
    {
     "data": {
      "text/plain": [
       "0.6162410220697413"
      ]
     },
     "execution_count": 144,
     "metadata": {},
     "output_type": "execute_result"
    }
   ],
   "source": [
    "fpr, tpr, thresholds = metrics.roc_curve(y_test, y_pred)\n",
    "metrics.auc(fpr, tpr)"
   ]
  },
  {
   "cell_type": "code",
   "execution_count": 145,
   "id": "c94007be",
   "metadata": {
    "scrolled": true
   },
   "outputs": [
    {
     "data": {
      "image/png": "[encoded data removed]",
      "text/plain": [
       "<Figure size 432x288 with 1 Axes>"
      ]
     },
     "metadata": {},
     "output_type": "display_data"
    }
   ],
   "source": [
    "plot_auc_curve(fpr, tpr)"
   ]
  },
  {
   "cell_type": "markdown",
   "id": "b5623f78",
   "metadata": {},
   "source": [
    "## Model 2: Random Forest"
   ]
  },
  {
   "cell_type": "markdown",
   "id": "55a52679",
   "metadata": {},
   "source": [
    "### 2.1 Make pipeline and fit"
   ]
  },
  {
   "cell_type": "code",
   "execution_count": 222,
   "id": "6f9a2c1a",
   "metadata": {},
   "outputs": [],
   "source": [
    "# Import the model\n",
    "from sklearn.ensemble import RandomForestRegressor"
   ]
  },
  {
   "cell_type": "code",
   "execution_count": 223,
   "id": "93bc3a33",
   "metadata": {},
   "outputs": [],
   "source": [
    "# Instantiate model with 1000 decision trees\n",
    "#RF_pipe = RandomForestRegressor(n_estimators = 1000, random_state = 42)\n",
    "RF_pipe = RandomForestRegressor(random_state = 42)"
   ]
  },
  {
   "cell_type": "code",
   "execution_count": 224,
   "id": "1be80827",
   "metadata": {},
   "outputs": [
    {
     "data": {
      "text/plain": [
       "RandomForestRegressor(random_state=42)"
      ]
     },
     "execution_count": 224,
     "metadata": {},
     "output_type": "execute_result"
    }
   ],
   "source": [
    "# Train the model on training data\n",
    "RF_pipe.fit(X_train, y_train)"
   ]
  },
  {
   "cell_type": "code",
   "execution_count": 225,
   "id": "7e7e7b41",
   "metadata": {},
   "outputs": [],
   "source": [
    "model_name = RF_pipe"
   ]
  },
  {
   "cell_type": "markdown",
   "id": "69da69c6",
   "metadata": {},
   "source": [
    "### 2.2 Hyperparameter search using GridSearchCV"
   ]
  },
  {
   "cell_type": "code",
   "execution_count": 245,
   "id": "47832e50",
   "metadata": {},
   "outputs": [
    {
     "data": {
      "text/plain": [
       "dict_keys(['bootstrap', 'ccp_alpha', 'criterion', 'max_depth', 'max_features', 'max_leaf_nodes', 'max_samples', 'min_impurity_decrease', 'min_samples_leaf', 'min_samples_split', 'min_weight_fraction_leaf', 'n_estimators', 'n_jobs', 'oob_score', 'random_state', 'verbose', 'warm_start'])"
      ]
     },
     "execution_count": 245,
     "metadata": {},
     "output_type": "execute_result"
    }
   ],
   "source": [
    "model_name.get_params().keys()"
   ]
  },
  {
   "cell_type": "code",
   "execution_count": 246,
   "id": "c85989b9",
   "metadata": {},
   "outputs": [],
   "source": [
    "grid_params = { \n",
    "    'n_estimators': [200,700, 1100],\n",
    "    'max_features': ['auto', 'sqrt', 'log2']\n",
    "}"
   ]
  },
  {
   "cell_type": "code",
   "execution_count": 232,
   "id": "916b27ca",
   "metadata": {},
   "outputs": [],
   "source": [
    "rf_grid_cv = GridSearchCV(model_name, param_grid=grid_params, cv=5, n_jobs=-1)"
   ]
  },
  {
   "cell_type": "code",
   "execution_count": 233,
   "id": "487a4f8c",
   "metadata": {},
   "outputs": [
    {
     "data": {
      "text/plain": [
       "GridSearchCV(cv=5, estimator=RandomForestRegressor(random_state=42), n_jobs=-1,\n",
       "             param_grid={'max_features': ['auto', 'sqrt', 'log2'],\n",
       "                         'n_estimators': [200, 700, 1100]})"
      ]
     },
     "execution_count": 233,
     "metadata": {},
     "output_type": "execute_result"
    }
   ],
   "source": [
    "rf_grid_cv.fit(X_train, y_train)"
   ]
  },
  {
   "cell_type": "code",
   "execution_count": 234,
   "id": "3b0cfb75",
   "metadata": {},
   "outputs": [],
   "source": [
    "score_mean = rf_grid_cv.cv_results_['mean_test_score']\n",
    "score_std = rf_grid_cv.cv_results_['std_test_score']"
   ]
  },
  {
   "cell_type": "code",
   "execution_count": 235,
   "id": "c7d4698a",
   "metadata": {},
   "outputs": [
    {
     "data": {
      "text/plain": [
       "{'max_features': 'auto', 'n_estimators': 1100}"
      ]
     },
     "execution_count": 235,
     "metadata": {},
     "output_type": "execute_result"
    }
   ],
   "source": [
    "rf_grid_cv.best_params_"
   ]
  },
  {
   "cell_type": "code",
   "execution_count": 236,
   "id": "b3225689",
   "metadata": {},
   "outputs": [
    {
     "name": "stdout",
     "output_type": "stream",
     "text": [
      "score 0.6716723254905894\n"
     ]
    }
   ],
   "source": [
    "rf2=RandomForestRegressor(max_features= 'auto', n_estimators= 1100)\n",
    "rf2.fit(X_train,y_train)\n",
    "print(\"score\",rf2.score(X_test,y_test))"
   ]
  },
  {
   "cell_type": "code",
   "execution_count": 237,
   "id": "2ac94a40",
   "metadata": {},
   "outputs": [],
   "source": [
    "y_pred_rf = rf2.predict(X_test)"
   ]
  },
  {
   "cell_type": "code",
   "execution_count": 238,
   "id": "1565ea7a",
   "metadata": {},
   "outputs": [
    {
     "name": "stdout",
     "output_type": "stream",
     "text": [
      "0.6716723254905894\n"
     ]
    }
   ],
   "source": [
    "score = rf2.score(X_test, y_test)\n",
    "print(score)"
   ]
  },
  {
   "cell_type": "code",
   "execution_count": 239,
   "id": "145318ed",
   "metadata": {},
   "outputs": [
    {
     "data": {
      "text/plain": [
       "0.9601263784400085"
      ]
     },
     "execution_count": 239,
     "metadata": {},
     "output_type": "execute_result"
    }
   ],
   "source": [
    "fpr, tpr, thresholds = metrics.roc_curve(y_test, y_pred_rf)\n",
    "metrics.auc(fpr, tpr)"
   ]
  },
  {
   "cell_type": "code",
   "execution_count": 240,
   "id": "ac20306e",
   "metadata": {},
   "outputs": [
    {
     "data": {
      "image/png": "[encoded data removed]",
      "text/plain": [
       "<Figure size 432x288 with 1 Axes>"
      ]
     },
     "metadata": {},
     "output_type": "display_data"
    }
   ],
   "source": [
    "plot_auc_curve(fpr,tpr)"
   ]
  },
  {
   "cell_type": "markdown",
   "id": "bbcdc623",
   "metadata": {},
   "source": [
    "## Model 3: XGBoost"
   ]
  },
  {
   "cell_type": "markdown",
   "id": "6ecd2df1",
   "metadata": {},
   "source": [
    "### 3.1 Make pipeline and fit"
   ]
  },
  {
   "cell_type": "code",
   "execution_count": 182,
   "id": "398fdd96",
   "metadata": {},
   "outputs": [],
   "source": [
    "from xgboost import XGBRegressor"
   ]
  },
  {
   "cell_type": "code",
   "execution_count": 191,
   "id": "8c6ca844",
   "metadata": {},
   "outputs": [],
   "source": [
    "# xg_reg = XGBRegressor(learning_rate = 0.1,\n",
    "#                 max_depth = 5, alpha = 10, n_estimators = 10)\n",
    "xg_reg = XGBRegressor()"
   ]
  },
  {
   "cell_type": "code",
   "execution_count": 192,
   "id": "7beb6c53",
   "metadata": {},
   "outputs": [
    {
     "data": {
      "text/plain": [
       "XGBRegressor(base_score=0.5, booster='gbtree', colsample_bylevel=1,\n",
       "             colsample_bynode=1, colsample_bytree=1, enable_categorical=False,\n",
       "             gamma=0, gpu_id=-1, importance_type=None,\n",
       "             interaction_constraints='', learning_rate=0.300000012,\n",
       "             max_delta_step=0, max_depth=6, min_child_weight=1, missing=nan,\n",
       "             monotone_constraints='()', n_estimators=100, n_jobs=8,\n",
       "             num_parallel_tree=1, predictor='auto', random_state=0, reg_alpha=0,\n",
       "             reg_lambda=1, scale_pos_weight=1, subsample=1, tree_method='exact',\n",
       "             validate_parameters=1, verbosity=None)"
      ]
     },
     "execution_count": 192,
     "metadata": {},
     "output_type": "execute_result"
    }
   ],
   "source": [
    "xg_reg.fit(X_train,y_train)"
   ]
  },
  {
   "cell_type": "code",
   "execution_count": 211,
   "id": "5f3a2c1e",
   "metadata": {},
   "outputs": [],
   "source": [
    "model_name = xg_reg"
   ]
  },
  {
   "cell_type": "markdown",
   "id": "1bbd7362",
   "metadata": {},
   "source": [
    "### 3.2 Hyperparameter search using GridSearchCV"
   ]
  },
  {
   "cell_type": "code",
   "execution_count": 200,
   "id": "a4c73446",
   "metadata": {},
   "outputs": [
    {
     "data": {
      "text/plain": [
       "dict_keys(['objective', 'base_score', 'booster', 'colsample_bylevel', 'colsample_bynode', 'colsample_bytree', 'enable_categorical', 'gamma', 'gpu_id', 'importance_type', 'interaction_constraints', 'learning_rate', 'max_delta_step', 'max_depth', 'min_child_weight', 'missing', 'monotone_constraints', 'n_estimators', 'n_jobs', 'num_parallel_tree', 'predictor', 'random_state', 'reg_alpha', 'reg_lambda', 'scale_pos_weight', 'subsample', 'tree_method', 'validate_parameters', 'verbosity'])"
      ]
     },
     "execution_count": 200,
     "metadata": {},
     "output_type": "execute_result"
    }
   ],
   "source": [
    "model_name.get_params().keys()"
   ]
  },
  {
   "cell_type": "code",
   "execution_count": 203,
   "id": "f5193a24",
   "metadata": {},
   "outputs": [],
   "source": [
    "grid_params = {'learning_rate': [0.01, 0.1, 1],\n",
    "                'max_depth': [5, 10, 15], 'alpha': [10], 'n_estimators': [10, 50, 100]}"
   ]
  },
  {
   "cell_type": "code",
   "execution_count": 204,
   "id": "ac89837a",
   "metadata": {},
   "outputs": [],
   "source": [
    "xg_grid_cv = GridSearchCV(model_name, param_grid=grid_params, cv=5, n_jobs=-1)"
   ]
  },
  {
   "cell_type": "code",
   "execution_count": 205,
   "id": "af2408cf",
   "metadata": {},
   "outputs": [
    {
     "data": {
      "text/plain": [
       "GridSearchCV(cv=5,\n",
       "             estimator=XGBRegressor(base_score=0.5, booster='gbtree',\n",
       "                                    colsample_bylevel=1, colsample_bynode=1,\n",
       "                                    colsample_bytree=1,\n",
       "                                    enable_categorical=False, gamma=0,\n",
       "                                    gpu_id=-1, importance_type=None,\n",
       "                                    interaction_constraints='',\n",
       "                                    learning_rate=0.300000012, max_delta_step=0,\n",
       "                                    max_depth=6, min_child_weight=1,\n",
       "                                    missing=nan, monotone_constraints='()',\n",
       "                                    n_estimators=100, n_jobs=8,\n",
       "                                    num_parallel_tree=1, predictor='auto',\n",
       "                                    random_state=0, reg_alpha=0, reg_lambda=1,\n",
       "                                    scale_pos_weight=1, subsample=1,\n",
       "                                    tree_method='exact', validate_parameters=1,\n",
       "                                    verbosity=None),\n",
       "             n_jobs=-1,\n",
       "             param_grid={'alpha': [10], 'learning_rate': [0.01, 0.1, 1],\n",
       "                         'max_depth': [5, 10, 15],\n",
       "                         'n_estimators': [10, 50, 100]})"
      ]
     },
     "execution_count": 205,
     "metadata": {},
     "output_type": "execute_result"
    }
   ],
   "source": [
    "xg_grid_cv.fit(X_train, y_train)"
   ]
  },
  {
   "cell_type": "code",
   "execution_count": 244,
   "id": "e731b688",
   "metadata": {},
   "outputs": [
    {
     "data": {
      "text/plain": [
       "{'alpha': 10, 'learning_rate': 0.1, 'max_depth': 5, 'n_estimators': 100}"
      ]
     },
     "execution_count": 244,
     "metadata": {},
     "output_type": "execute_result"
    }
   ],
   "source": [
    "xg_grid_cv.best_params_"
   ]
  },
  {
   "cell_type": "markdown",
   "id": "6521fe73",
   "metadata": {},
   "source": [
    "## Model 4: K Nearest Neighbours"
   ]
  },
  {
   "cell_type": "markdown",
   "id": "156cc295",
   "metadata": {},
   "source": [
    "### 4.1 Make pipeline and fit"
   ]
  },
  {
   "cell_type": "code",
   "execution_count": 247,
   "id": "72a93daf",
   "metadata": {},
   "outputs": [],
   "source": [
    "from sklearn.neighbors import KNeighborsClassifier"
   ]
  },
  {
   "cell_type": "code",
   "execution_count": 248,
   "id": "abb906be",
   "metadata": {},
   "outputs": [],
   "source": [
    "knn = KNeighborsClassifier()"
   ]
  },
  {
   "cell_type": "code",
   "execution_count": 249,
   "id": "85e3d725",
   "metadata": {},
   "outputs": [
    {
     "data": {
      "text/plain": [
       "KNeighborsClassifier()"
      ]
     },
     "execution_count": 249,
     "metadata": {},
     "output_type": "execute_result"
    }
   ],
   "source": [
    "knn.fit(X_train,y_train)"
   ]
  },
  {
   "cell_type": "code",
   "execution_count": 250,
   "id": "e68e18ae",
   "metadata": {},
   "outputs": [],
   "source": [
    "model_name = knn"
   ]
  },
  {
   "cell_type": "markdown",
   "id": "b59a8b98",
   "metadata": {},
   "source": [
    "### 4.2 Hyperparameter search using GridSearchCV"
   ]
  },
  {
   "cell_type": "code",
   "execution_count": 251,
   "id": "8213cc7d",
   "metadata": {},
   "outputs": [
    {
     "data": {
      "text/plain": [
       "dict_keys(['algorithm', 'leaf_size', 'metric', 'metric_params', 'n_jobs', 'n_neighbors', 'p', 'weights'])"
      ]
     },
     "execution_count": 251,
     "metadata": {},
     "output_type": "execute_result"
    }
   ],
   "source": [
    "model_name.get_params().keys()"
   ]
  },
  {
   "cell_type": "code",
   "execution_count": 255,
   "id": "0c20db8c",
   "metadata": {},
   "outputs": [],
   "source": [
    "grid_params = {}"
   ]
  },
  {
   "cell_type": "code",
   "execution_count": 256,
   "id": "0687d33f",
   "metadata": {},
   "outputs": [],
   "source": [
    "xg_grid_cv = GridSearchCV(model_name, param_grid=grid_params, cv=5, n_jobs=-1)"
   ]
  },
  {
   "cell_type": "code",
   "execution_count": 257,
   "id": "d02cb672",
   "metadata": {},
   "outputs": [
    {
     "data": {
      "text/plain": [
       "GridSearchCV(cv=5, estimator=KNeighborsClassifier(), n_jobs=-1, param_grid={})"
      ]
     },
     "execution_count": 257,
     "metadata": {},
     "output_type": "execute_result"
    }
   ],
   "source": [
    "xg_grid_cv.fit(X_train, y_train)"
   ]
  },
  {
   "cell_type": "code",
   "execution_count": 258,
   "id": "9f0c77be",
   "metadata": {},
   "outputs": [],
   "source": [
    "score_mean = xg_grid_cv.cv_results_['mean_test_score']\n",
    "score_std = xg_grid_cv.cv_results_['std_test_score']"
   ]
  },
  {
   "cell_type": "code",
   "execution_count": 259,
   "id": "05159486",
   "metadata": {},
   "outputs": [
    {
     "data": {
      "text/plain": [
       "{}"
      ]
     },
     "execution_count": 259,
     "metadata": {},
     "output_type": "execute_result"
    }
   ],
   "source": [
    "xg_grid_cv.best_params_"
   ]
  },
  {
   "cell_type": "code",
   "execution_count": null,
   "id": "5b532e1f",
   "metadata": {},
   "outputs": [],
   "source": [
    "## Model 5: Naive Bayes"
   ]
  },
  {
   "cell_type": "code",
   "execution_count": null,
   "id": "16a0100f",
   "metadata": {},
   "outputs": [],
   "source": []
  },
  {
   "cell_type": "code",
   "execution_count": null,
   "id": "1f189c86",
   "metadata": {},
   "outputs": [],
   "source": [
    "## Model 6: Decision Tree"
   ]
  },
  {
   "cell_type": "code",
   "execution_count": null,
   "id": "300369fd",
   "metadata": {},
   "outputs": [],
   "source": []
  },
  {
   "cell_type": "code",
   "execution_count": null,
   "id": "44848f49",
   "metadata": {},
   "outputs": [],
   "source": [
    "## Model 7: SVM"
   ]
  },
  {
   "cell_type": "code",
   "execution_count": null,
   "id": "0a5a4c93",
   "metadata": {},
   "outputs": [],
   "source": []
  },
  {
   "cell_type": "markdown",
   "id": "a1ad010c",
   "metadata": {},
   "source": [
    " ## Compare different Models"
   ]
  },
  {
   "cell_type": "code",
   "execution_count": 263,
   "id": "ff46a705",
   "metadata": {},
   "outputs": [],
   "source": [
    "model = [lr2, rf2, xg_reg,knn ]\n",
    "model_name =['LogisticRegression', 'RandomForest', 'XGBoost', 'KNN']"
   ]
  },
  {
   "cell_type": "markdown",
   "id": "4a929f58",
   "metadata": {},
   "source": [
    "### AUC Score"
   ]
  },
  {
   "cell_type": "code",
   "execution_count": 261,
   "id": "0c9e9bdf",
   "metadata": {},
   "outputs": [
    {
     "name": "stdout",
     "output_type": "stream",
     "text": [
      "The AUC Socre for LogisticRegression is 0.6162\n",
      "The AUC Socre for RandomForest is 0.9601\n",
      "The AUC Socre for XGBoost is 0.9672\n",
      "The AUC Socre for KNN is 0.7349\n"
     ]
    }
   ],
   "source": [
    "for i, name in enumerate(model):\n",
    "    val = auc_score(model[i], y_test, X_test)\n",
    "    print('The AUC Socre for %s is %.4f' % (model_name[i],val))"
   ]
  },
  {
   "cell_type": "markdown",
   "id": "938c6fcf",
   "metadata": {},
   "source": [
    " ### Model Selection and Importance Features"
   ]
  },
  {
   "cell_type": "code",
   "execution_count": 262,
   "id": "29222aa2",
   "metadata": {},
   "outputs": [
    {
     "name": "stdout",
     "output_type": "stream",
     "text": [
      "RandomForestRegressor(n_estimators=1100)\n",
      "XGBRegressor(base_score=0.5, booster='gbtree', colsample_bylevel=1,\n",
      "             colsample_bynode=1, colsample_bytree=1, enable_categorical=False,\n",
      "             gamma=0, gpu_id=-1, importance_type=None,\n",
      "             interaction_constraints='', learning_rate=0.300000012,\n",
      "             max_delta_step=0, max_depth=6, min_child_weight=1, missing=nan,\n",
      "             monotone_constraints='()', n_estimators=100, n_jobs=8,\n",
      "             num_parallel_tree=1, predictor='auto', random_state=0, reg_alpha=0,\n",
      "             reg_lambda=1, scale_pos_weight=1, subsample=1, tree_method='exact',\n",
      "             validate_parameters=1, verbosity=None)\n"
     ]
    },
    {
     "data": {
      "image/png": "[encoded data removed]",
      "text/plain": [
       "<Figure size 1080x576 with 2 Axes>"
      ]
     },
     "metadata": {},
     "output_type": "display_data"
    }
   ],
   "source": [
    "imp_model = [rf2,xg_reg ]\n",
    "imp_model_name =['RandomForest', 'XGBoost']\n",
    "plot_impfeatures(imp_model, imp_model_name)"
   ]
  },
  {
   "cell_type": "markdown",
   "id": "9122af3c",
   "metadata": {},
   "source": [
    "### SHAP Analysis"
   ]
  },
  {
   "cell_type": "code",
   "execution_count": 265,
   "id": "4cccba19",
   "metadata": {},
   "outputs": [
    {
     "name": "stderr",
     "output_type": "stream",
     "text": [
      "Exact explainer: 5422it [00:37, 106.80it/s]                                                                                                 \n"
     ]
    }
   ],
   "source": [
    "#rf_shap_values = shap_values(rf2)\n",
    "xg_shap_values = shap_values(xg_reg)"
   ]
  },
  {
   "cell_type": "code",
   "execution_count": null,
   "id": "d2433f73",
   "metadata": {},
   "outputs": [],
   "source": [
    "shap.plots.beeswarm(rf_shap_values)"
   ]
  },
  {
   "cell_type": "code",
   "execution_count": 266,
   "id": "d93e5fa9",
   "metadata": {},
   "outputs": [
    {
     "data": {
      "image/png": "[encoded data removed]",
      "text/plain": [
       "<Figure size 576x309.6 with 2 Axes>"
      ]
     },
     "metadata": {},
     "output_type": "display_data"
    }
   ],
   "source": [
    "shap.plots.beeswarm(xg_shap_values)"
   ]
  },
  {
   "cell_type": "code",
   "execution_count": null,
   "id": "c9d6ba32",
   "metadata": {},
   "outputs": [],
   "source": []
  }
 ],
 "metadata": {
  "kernelspec": {
   "display_name": "Python 3 (ipykernel)",
   "language": "python",
   "name": "python3"
  },
  "language_info": {
   "codemirror_mode": {
    "name": "ipython",
    "version": 3
   },
   "file_extension": ".py",
   "mimetype": "text/x-python",
   "name": "python",
   "nbconvert_exporter": "python",
   "pygments_lexer": "ipython3",
   "version": "3.9.7"
  },
  "latex_envs": {
   "LaTeX_envs_menu_present": true,
   "autoclose": false,
   "autocomplete": true,
   "bibliofile": "biblio.bib",
   "cite_by": "apalike",
   "current_citInitial": 1,
   "eqLabelWithNumbers": true,
   "eqNumInitial": 1,
   "hotkeys": {
    "equation": "Ctrl-E",
    "itemize": "Ctrl-I"
   },
   "labels_anchors": false,
   "latex_user_defs": false,
   "report_style_numbering": false,
   "user_envs_cfg": false
  }
 },
 "nbformat": 4,
 "nbformat_minor": 5
}
