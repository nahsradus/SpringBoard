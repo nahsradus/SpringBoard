{
 "cells": [
  {
   "cell_type": "markdown",
   "id": "32e3647c",
   "metadata": {},
   "source": [
    " # Modeling Results"
   ]
  },
  {
   "cell_type": "code",
   "execution_count": 64,
   "id": "7ce19faf",
   "metadata": {},
   "outputs": [],
   "source": [
    "import pandas as pd\n",
    "import numpy as np\n",
    "import matplotlib.pyplot as plt\n",
    "import seaborn as sns\n",
    "import shap\n",
    "\n",
    "import pickle\n",
    "\n",
    "from sklearn.pipeline import make_pipeline\n",
    "\n",
    "sns.set()"
   ]
  },
  {
   "cell_type": "markdown",
   "id": "1ca4104d",
   "metadata": {},
   "source": [
    "## 1. Relevant Functions"
   ]
  },
  {
   "cell_type": "code",
   "execution_count": 5,
   "id": "5b202a7e",
   "metadata": {},
   "outputs": [],
   "source": [
    "def plot_impfeatures(models, model_label, ncol=None):\n",
    "    if ncol is None:\n",
    "        ncol = 2\n",
    "    nrow = int(np.ceil(len(models) / ncol))\n",
    "    fig, axes = plt.subplots(nrow, ncol, figsize=(15, 8*nrow), squeeze=False)\n",
    "    fig.subplots_adjust(wspace=0.5, hspace=0.6)\n",
    "    for i, model in enumerate(models):\n",
    "        ax = axes.flatten()[i]\n",
    "        print(model)\n",
    "        importances = model.feature_importances_\n",
    "        indices = np.argsort(importances)\n",
    "        features = X_train.columns\n",
    "        \n",
    "        ax.barh(range(len(indices)), importances[indices], color='b', align='center')\n",
    "        ax.set(title=model_label[i])\n",
    "        ax.set(xlabel='Relative Importance')\n",
    "        ax.set_yticks(range(len(indices)), [features[i] for i in indices])\n",
    "    nsubplots = nrow * ncol    \n",
    "    for empty in range(i+1, nsubplots):\n",
    "        axes.flatten()[empty].set_visible(False)"
   ]
  },
  {
   "cell_type": "code",
   "execution_count": 8,
   "id": "11afd893",
   "metadata": {},
   "outputs": [],
   "source": [
    "def shap_values(model):\n",
    "    explainer = shap.Explainer(model.predict,X_train[0:100])\n",
    "    shap_values = explainer(X_test)\n",
    "    return shap_values"
   ]
  },
  {
   "cell_type": "code",
   "execution_count": 9,
   "id": "2142d385",
   "metadata": {},
   "outputs": [],
   "source": [
    "from sklearn.model_selection import train_test_split, cross_validate, GridSearchCV, learning_curve\n",
    "from sklearn import metrics"
   ]
  },
  {
   "cell_type": "markdown",
   "id": "b369ee7c",
   "metadata": {},
   "source": [
    "## 2. Load Data"
   ]
  },
  {
   "cell_type": "code",
   "execution_count": 10,
   "id": "000ed042",
   "metadata": {},
   "outputs": [
    {
     "data": {
      "text/html": [
       "<div>\n",
       "<style scoped>\n",
       "    .dataframe tbody tr th:only-of-type {\n",
       "        vertical-align: middle;\n",
       "    }\n",
       "\n",
       "    .dataframe tbody tr th {\n",
       "        vertical-align: top;\n",
       "    }\n",
       "\n",
       "    .dataframe thead th {\n",
       "        text-align: right;\n",
       "    }\n",
       "</style>\n",
       "<table border=\"1\" class=\"dataframe\">\n",
       "  <thead>\n",
       "    <tr style=\"text-align: right;\">\n",
       "      <th></th>\n",
       "      <th>step</th>\n",
       "      <th>amount</th>\n",
       "      <th>isFraud</th>\n",
       "      <th>CASH_IN</th>\n",
       "      <th>CASH_OUT</th>\n",
       "      <th>DEBIT</th>\n",
       "      <th>PAYMENT</th>\n",
       "      <th>TRANSFER</th>\n",
       "    </tr>\n",
       "  </thead>\n",
       "  <tbody>\n",
       "    <tr>\n",
       "      <th>0</th>\n",
       "      <td>281</td>\n",
       "      <td>109339.40</td>\n",
       "      <td>0</td>\n",
       "      <td>0</td>\n",
       "      <td>1</td>\n",
       "      <td>0</td>\n",
       "      <td>0</td>\n",
       "      <td>0</td>\n",
       "    </tr>\n",
       "    <tr>\n",
       "      <th>1</th>\n",
       "      <td>381</td>\n",
       "      <td>32426.51</td>\n",
       "      <td>0</td>\n",
       "      <td>1</td>\n",
       "      <td>0</td>\n",
       "      <td>0</td>\n",
       "      <td>0</td>\n",
       "      <td>0</td>\n",
       "    </tr>\n",
       "    <tr>\n",
       "      <th>2</th>\n",
       "      <td>20</td>\n",
       "      <td>55810.86</td>\n",
       "      <td>0</td>\n",
       "      <td>1</td>\n",
       "      <td>0</td>\n",
       "      <td>0</td>\n",
       "      <td>0</td>\n",
       "      <td>0</td>\n",
       "    </tr>\n",
       "    <tr>\n",
       "      <th>3</th>\n",
       "      <td>331</td>\n",
       "      <td>50514.72</td>\n",
       "      <td>0</td>\n",
       "      <td>0</td>\n",
       "      <td>1</td>\n",
       "      <td>0</td>\n",
       "      <td>0</td>\n",
       "      <td>0</td>\n",
       "    </tr>\n",
       "    <tr>\n",
       "      <th>4</th>\n",
       "      <td>182</td>\n",
       "      <td>16539.44</td>\n",
       "      <td>0</td>\n",
       "      <td>0</td>\n",
       "      <td>0</td>\n",
       "      <td>0</td>\n",
       "      <td>1</td>\n",
       "      <td>0</td>\n",
       "    </tr>\n",
       "  </tbody>\n",
       "</table>\n",
       "</div>"
      ],
      "text/plain": [
       "   step     amount  isFraud  CASH_IN  CASH_OUT  DEBIT  PAYMENT  TRANSFER\n",
       "0   281  109339.40        0        0         1      0        0         0\n",
       "1   381   32426.51        0        1         0      0        0         0\n",
       "2    20   55810.86        0        1         0      0        0         0\n",
       "3   331   50514.72        0        0         1      0        0         0\n",
       "4   182   16539.44        0        0         0      0        1         0"
      ]
     },
     "execution_count": 10,
     "metadata": {},
     "output_type": "execute_result"
    }
   ],
   "source": [
    "final_df = pd.read_csv('../clean_data/final_df.csv')\n",
    "final_df.head()"
   ]
  },
  {
   "cell_type": "code",
   "execution_count": 11,
   "id": "a36a252e",
   "metadata": {},
   "outputs": [],
   "source": [
    "y = final_df['isFraud']\n",
    "X = final_df.drop(columns = 'isFraud')"
   ]
  },
  {
   "cell_type": "code",
   "execution_count": 12,
   "id": "93265fa9",
   "metadata": {},
   "outputs": [],
   "source": [
    "X_train, X_test, y_train, y_test = train_test_split(\n",
    "    X, y, test_size=0.33, random_state=42)"
   ]
  },
  {
   "cell_type": "markdown",
   "id": "a97677b9",
   "metadata": {},
   "source": [
    " ## 3 Load different Models"
   ]
  },
  {
   "cell_type": "code",
   "execution_count": 60,
   "id": "2043539d",
   "metadata": {},
   "outputs": [],
   "source": [
    "model_names =['RandomForest', 'XGBoost']"
   ]
  },
  {
   "cell_type": "code",
   "execution_count": 61,
   "id": "fc3b8d5f",
   "metadata": {},
   "outputs": [],
   "source": [
    "rf  = pickle.load(open('../models/'+ model_names[0]+'.pkl', 'rb'))\n",
    "xg = pickle.load(open('../models/'+ model_names[1]+'.pkl', 'rb'))"
   ]
  },
  {
   "cell_type": "code",
   "execution_count": 62,
   "id": "69978af6",
   "metadata": {},
   "outputs": [],
   "source": [
    "models =[rf,xg]"
   ]
  },
  {
   "cell_type": "markdown",
   "id": "2301c5c2",
   "metadata": {},
   "source": [
    " ### 3.1 Plot Important Features"
   ]
  },
  {
   "cell_type": "code",
   "execution_count": 63,
   "id": "905324dd",
   "metadata": {},
   "outputs": [
    {
     "name": "stdout",
     "output_type": "stream",
     "text": [
      "RandomForestRegressor(n_estimators=1000)\n",
      "XGBRegressor(base_score=0.5, booster='gbtree', colsample_bylevel=1,\n",
      "             colsample_bynode=1, colsample_bytree=1, enable_categorical=False,\n",
      "             gamma=0, gpu_id=-1, importance_type=None,\n",
      "             interaction_constraints='', learning_rate=0.1, max_delta_step=0,\n",
      "             max_depth=5, min_child_weight=1, missing=nan,\n",
      "             monotone_constraints='()', n_estimators=100, n_jobs=8,\n",
      "             num_parallel_tree=1, predictor='auto', random_state=0, reg_alpha=0,\n",
      "             reg_lambda=1, scale_pos_weight=1, subsample=1, tree_method='exact',\n",
      "             validate_parameters=1, verbosity=None)\n"
     ]
    },
    {
     "data": {
      "image/png": "[encoded data removed]",
      "text/plain": [
       "<Figure size 1080x576 with 2 Axes>"
      ]
     },
     "metadata": {},
     "output_type": "display_data"
    }
   ],
   "source": [
    "plot_impfeatures(models, model_names)"
   ]
  },
  {
   "cell_type": "markdown",
   "id": "8056a64b",
   "metadata": {},
   "source": [
    "### 3.2 SHAP Analysis"
   ]
  },
  {
   "cell_type": "code",
   "execution_count": 55,
   "id": "496911ea",
   "metadata": {},
   "outputs": [
    {
     "name": "stderr",
     "output_type": "stream",
     "text": [
      "Exact explainer: 5422it [00:43, 103.38it/s]                                                                                                 \n"
     ]
    }
   ],
   "source": [
    "xg_shap_values = shap_values(xg)"
   ]
  },
  {
   "cell_type": "code",
   "execution_count": 56,
   "id": "5b76a1ed",
   "metadata": {},
   "outputs": [
    {
     "data": {
      "image/png": "[encoded data removed]",
      "text/plain": [
       "<Figure size 576x309.6 with 2 Axes>"
      ]
     },
     "metadata": {},
     "output_type": "display_data"
    }
   ],
   "source": [
    "shap.plots.beeswarm(xg_shap_values)"
   ]
  },
  {
   "cell_type": "code",
   "execution_count": null,
   "id": "b99df6a3",
   "metadata": {},
   "outputs": [
    {
     "name": "stderr",
     "output_type": "stream",
     "text": [
      "Exact explainer:  37%|██████████████████████████████▍                                                   | 2011/5421 [11:38<20:59,  2.71it/s]"
     ]
    }
   ],
   "source": [
    "rf_shap_values = shap_values(rf)"
   ]
  },
  {
   "cell_type": "code",
   "execution_count": null,
   "id": "5e775f0b",
   "metadata": {},
   "outputs": [],
   "source": [
    "shap.plots.beeswarm(rf_shap_values)"
   ]
  },
  {
   "cell_type": "markdown",
   "id": "379bb996",
   "metadata": {},
   "source": [
    "### 3.3 Model Performance"
   ]
  },
  {
   "cell_type": "code",
   "execution_count": null,
   "id": "b07c6f13",
   "metadata": {},
   "outputs": [],
   "source": []
  }
 ],
 "metadata": {
  "kernelspec": {
   "display_name": "Python 3 (ipykernel)",
   "language": "python",
   "name": "python3"
  },
  "language_info": {
   "codemirror_mode": {
    "name": "ipython",
    "version": 3
   },
   "file_extension": ".py",
   "mimetype": "text/x-python",
   "name": "python",
   "nbconvert_exporter": "python",
   "pygments_lexer": "ipython3",
   "version": "3.9.7"
  },
  "latex_envs": {
   "LaTeX_envs_menu_present": true,
   "autoclose": false,
   "autocomplete": true,
   "bibliofile": "biblio.bib",
   "cite_by": "apalike",
   "current_citInitial": 1,
   "eqLabelWithNumbers": true,
   "eqNumInitial": 1,
   "hotkeys": {
    "equation": "Ctrl-E",
    "itemize": "Ctrl-I"
   },
   "labels_anchors": false,
   "latex_user_defs": false,
   "report_style_numbering": false,
   "user_envs_cfg": false
  }
 },
 "nbformat": 4,
 "nbformat_minor": 5
}
