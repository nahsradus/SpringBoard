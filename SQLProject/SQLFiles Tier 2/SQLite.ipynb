{
 "cells": [
  {
   "cell_type": "code",
   "execution_count": 4,
   "id": "26f718b7",
   "metadata": {},
   "outputs": [],
   "source": [
    "import sqlite3"
   ]
  },
  {
   "cell_type": "code",
   "execution_count": 12,
   "id": "7b0282e7",
   "metadata": {},
   "outputs": [],
   "source": [
    "con = sqlite3.connect(\"sqlite_db_pythonsqlite.db\")\n",
    "cur = con.cursor()"
   ]
  },
  {
   "cell_type": "code",
   "execution_count": 16,
   "id": "05285743",
   "metadata": {},
   "outputs": [
    {
     "name": "stdout",
     "output_type": "stream",
     "text": [
      "('Badminton Court', 604.5)\n",
      "('Table Tennis', 90)\n",
      "('Snooker Table', 115)\n",
      "('Pool Table', 265)\n"
     ]
    }
   ],
   "source": [
    "query10 = \"\"\"\n",
    "    SELECT sub.name, SUM( sub.revenue ) AS revenue\n",
    "    FROM (\n",
    "    SELECT b.facid, b.memid, f.name, f.guestcost, f.membercost, COUNT( b.facid ) AS facid_count,\n",
    "    CASE\n",
    "    WHEN b.memid =0\n",
    "    THEN COUNT( b.facid ) * f.guestcost\n",
    "    ELSE COUNT( b.facid ) * f.membercost\n",
    "    END AS 'revenue'\n",
    "    FROM Bookings AS b\n",
    "    LEFT JOIN Facilities AS f ON b.facid = f.facid\n",
    "    GROUP BY b.facid, b.memid\n",
    "    ) AS sub\n",
    "    GROUP BY sub.facid\n",
    "    HAVING revenue <=1000\n",
    "    \"\"\"\n",
    "cur.execute(query10)\n",
    "\n",
    "rows = cur.fetchall()\n",
    "\n",
    "for row in rows:\n",
    "    print(row)"
   ]
  },
  {
   "cell_type": "code",
   "execution_count": 19,
   "id": "72e76e01",
   "metadata": {},
   "outputs": [
    {
     "name": "stdout",
     "output_type": "stream",
     "text": [
      "('Florence', 'Bader', 'Ponder', 'Stibbons')\n",
      "('Anne', 'Baker', 'Ponder', 'Stibbons')\n",
      "('Timothy', 'Baker', 'Jemima', 'Farrell')\n",
      "('Tim', 'Boothe', 'Tim', 'Rownam')\n",
      "('Gerald', 'Butters', 'Darren', 'Smith')\n",
      "('Joan', 'Coplin', 'Timothy', 'Baker')\n",
      "('Erica', 'Crumpet', 'Tracy', 'Smith')\n",
      "('Nancy', 'Dare', 'Janice', 'Joplette')\n",
      "('David', 'Farrell', None, None)\n",
      "('Jemima', 'Farrell', None, None)\n",
      "('Matthew', 'Genting', 'Gerald', 'Butters')\n",
      "('John', 'Hunt', 'Millicent', 'Purview')\n",
      "('David', 'Jones', 'Janice', 'Joplette')\n",
      "('Douglas', 'Jones', 'David', 'Jones')\n",
      "('Janice', 'Joplette', 'Darren', 'Smith')\n",
      "('Anna', 'Mackenzie', 'Darren', 'Smith')\n",
      "('Charles', 'Owen', 'Darren', 'Smith')\n",
      "('David', 'Pinker', 'Jemima', 'Farrell')\n",
      "('Millicent', 'Purview', 'Tracy', 'Smith')\n",
      "('Tim', 'Rownam', None, None)\n",
      "('Henrietta', 'Rumney', 'Matthew', 'Genting')\n",
      "('Ramnaresh', 'Sarwin', 'Florence', 'Bader')\n",
      "('Darren', 'Smith', None, None)\n",
      "('Darren', 'Smith', None, None)\n",
      "('Jack', 'Smith', 'Darren', 'Smith')\n",
      "('Tracy', 'Smith', None, None)\n",
      "('Ponder', 'Stibbons', 'Burton', 'Tracy')\n",
      "('Burton', 'Tracy', None, None)\n",
      "('Hyacinth', 'Tupperware', None, None)\n",
      "('Henry', 'Worthington-Smyth', 'Tracy', 'Smith')\n"
     ]
    }
   ],
   "source": [
    "query11 = \"\"\"\n",
    "    SELECT firstname, surname, (SELECT firstname from Members as m2 where m2.memid = m1.recommendedby\n",
    "    and m1.recommendedby != 0) as Reco_firstname,\n",
    "    (SELECT surname from Members as m2 where m2.memid = m1.recommendedby and m1.recommendedby != 0)\n",
    "    as Reco_surtname\n",
    "    FROM Members as m1\n",
    "    WHERE memid != 0\n",
    "    ORDER BY surname, firstname;\n",
    "    \"\"\"\n",
    "cur.execute(query11)\n",
    "\n",
    "rows = cur.fetchall()\n",
    "\n",
    "for row in rows:\n",
    "    print(row)"
   ]
  },
  {
   "cell_type": "code",
   "execution_count": 20,
   "id": "9595d773",
   "metadata": {},
   "outputs": [
    {
     "name": "stdout",
     "output_type": "stream",
     "text": [
      "(0, 308, 'Tennis Court 1')\n",
      "(1, 276, 'Tennis Court 2')\n",
      "(2, 344, 'Badminton Court')\n",
      "(3, 385, 'Table Tennis')\n",
      "(4, 421, 'Massage Room 1')\n",
      "(5, 27, 'Massage Room 2')\n",
      "(6, 195, 'Squash Court')\n",
      "(7, 421, 'Snooker Table')\n",
      "(8, 783, 'Pool Table')\n"
     ]
    }
   ],
   "source": [
    "query12 = \"\"\"\n",
    "    SELECT b.facid, COUNT( b.memid ) AS mem_usage, f.name\n",
    "    FROM (\n",
    "    SELECT facid, memid\n",
    "    FROM Bookings\n",
    "    WHERE memid !=0\n",
    "    ) AS b\n",
    "    LEFT JOIN Facilities AS f ON b.facid = f.facid\n",
    "    GROUP BY b.facid\n",
    "    \"\"\"\n",
    "cur.execute(query12)\n",
    "\n",
    "rows = cur.fetchall()\n",
    "\n",
    "for row in rows:\n",
    "    print(row)"
   ]
  },
  {
   "cell_type": "code",
   "execution_count": 21,
   "id": "8a730e2c",
   "metadata": {},
   "outputs": [
    {
     "name": "stdout",
     "output_type": "stream",
     "text": [
      "('07', 480)\n",
      "('08', 1168)\n",
      "('09', 1512)\n"
     ]
    }
   ],
   "source": [
    "query13 = \"\"\"\n",
    "    SELECT b.months, COUNT( b.memid ) AS mem_usage\n",
    "    FROM (\n",
    "    SELECT strftime('%m', starttime ) AS months, memid\n",
    "    FROM Bookings\n",
    "    WHERE memid !=0\n",
    "    ) AS b\n",
    "    GROUP BY b.months\n",
    "    \"\"\"\n",
    "cur.execute(query13)\n",
    "\n",
    "rows = cur.fetchall()\n",
    "\n",
    "for row in rows:\n",
    "    print(row)"
   ]
  },
  {
   "cell_type": "code",
   "execution_count": null,
   "id": "2e5ed620",
   "metadata": {},
   "outputs": [],
   "source": []
  }
 ],
 "metadata": {
  "kernelspec": {
   "display_name": "Python 3 (ipykernel)",
   "language": "python",
   "name": "python3"
  },
  "language_info": {
   "codemirror_mode": {
    "name": "ipython",
    "version": 3
   },
   "file_extension": ".py",
   "mimetype": "text/x-python",
   "name": "python",
   "nbconvert_exporter": "python",
   "pygments_lexer": "ipython3",
   "version": "3.9.13"
  },
  "latex_envs": {
   "LaTeX_envs_menu_present": true,
   "autoclose": false,
   "autocomplete": true,
   "bibliofile": "biblio.bib",
   "cite_by": "apalike",
   "current_citInitial": 1,
   "eqLabelWithNumbers": true,
   "eqNumInitial": 1,
   "hotkeys": {
    "equation": "Ctrl-E",
    "itemize": "Ctrl-I"
   },
   "labels_anchors": false,
   "latex_user_defs": false,
   "report_style_numbering": false,
   "user_envs_cfg": false
  }
 },
 "nbformat": 4,
 "nbformat_minor": 5
}
